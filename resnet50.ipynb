{
  "nbformat": 4,
  "nbformat_minor": 0,
  "metadata": {
    "colab": {
      "provenance": [],
      "authorship_tag": "ABX9TyOZCacDqLWrNb0HEdCDu3je",
      "include_colab_link": true
    },
    "kernelspec": {
      "name": "python3",
      "display_name": "Python 3"
    },
    "language_info": {
      "name": "python"
    }
  },
  "cells": [
    {
      "cell_type": "markdown",
      "metadata": {
        "id": "view-in-github",
        "colab_type": "text"
      },
      "source": [
        "<a href=\"https://colab.research.google.com/github/hao1zhao/Model/blob/main/resnet50.ipynb\" target=\"_parent\"><img src=\"https://colab.research.google.com/assets/colab-badge.svg\" alt=\"Open In Colab\"/></a>"
      ]
    },
    {
      "cell_type": "code",
      "execution_count": 13,
      "metadata": {
        "id": "nhAQfuS_2vT4"
      },
      "outputs": [],
      "source": [
        "import torch\n",
        "from torch import nn\n",
        "from torch.nn import functional as F\n",
        "\n",
        "# 1x1 conv -> 3x3 conv -> 1x1 conv\n",
        "class Bottleneck(nn.Module):\n",
        "    def __init__(self, in_channels, channels, stride=1, use_1x1conv=False):\n",
        "        super(Bottleneck,self).__init__()\n",
        "        self.conv1 = nn.Conv2d(in_channels, channels, kernel_size=1, stride=1, bias=False)\n",
        "        self.bn1 = nn.BatchNorm2d(channels)\n",
        "        self.conv2 = nn.Conv2d(channels, channels, kernel_size=3, stride=stride, padding=1, bias=False)\n",
        "        self.bn2 = nn.BatchNorm2d(channels)\n",
        "        self.conv3 = nn.Conv2d(channels, channels*4, kernel_size=1, stride=1, bias=False)\n",
        "        self.bn3 = nn.BatchNorm2d(channels*4)\n",
        "\n",
        "        if use_1x1conv:\n",
        "            self.conv4 = nn.Conv2d(\n",
        "                in_channels, channels*4, kernel_size=1, stride=stride\n",
        "            )\n",
        "        else:\n",
        "            self.conv4 = None\n",
        "\n",
        "    def forward(self, x):\n",
        "        # 1x1 conv ：in_channels -> channels\n",
        "        out = F.relu(self.bn1(self.conv1(x)))\n",
        "        # 3x3 conv ：channels -> channels\n",
        "        out = F.relu(self.bn2(self.conv2(out)))\n",
        "        # 1x1 conv : channels -> 4*channels\n",
        "        out = self.bn3(self.conv3(out))\n",
        "        \n",
        "        # 1x1 conv\n",
        "        if  self.conv4 == None:\n",
        "            identity = x\n",
        "        else:\n",
        "            identity = self.conv4(x)\n",
        "        \n",
        "\n",
        "        out += identity\n",
        "        return F.relu(out)\n",
        "def bottleneck_block(in_channels, channels, num_bottlenecks, not_FirstBlock = True):\n",
        "    # first neck:1x1conv\n",
        "    # first block stride=1，else block stride=2\n",
        "    blk = []\n",
        "    for i in range(num_bottlenecks):\n",
        "        if i == 0:\n",
        "            blk.append(\n",
        "                Bottleneck(in_channels, channels, stride=not_FirstBlock+1, use_1x1conv=True)\n",
        "            )\n",
        "        else:\n",
        "            blk.append(\n",
        "                Bottleneck(channels*4, channels)\n",
        "            )\n",
        "    return blk\n",
        "b1 = nn.Sequential(nn.Conv2d(1, 64, kernel_size=7, stride=2, padding=3),\n",
        "                   nn.BatchNorm2d(64), nn.ReLU(),\n",
        "                   nn.MaxPool2d(kernel_size=3, stride=2, padding=1))\n",
        "\n",
        "b2 = nn.Sequential(*bottleneck_block(64, 64, 3, not_FirstBlock=False))\n",
        "b3 = nn.Sequential(*bottleneck_block(64*4, 128, 3))\n",
        "b4 = nn.Sequential(*bottleneck_block(128*4, 256, 3))\n",
        "b5 = nn.Sequential(*bottleneck_block(256*4, 512, 3))\n",
        "resnet50 = nn.Sequential(\n",
        "    b1, b2, b3, b4, b5,\n",
        "    nn.AdaptiveAvgPool2d((1,1)),\n",
        "    nn.Flatten(),\n",
        "    nn.Linear(2048, 10)\n",
        ") "
      ]
    },
    {
      "cell_type": "code",
      "source": [
        "X = torch.rand(size=(1, 1, 224, 224))\n",
        "for layer in resnet50:\n",
        "    X = layer(X)\n",
        "    print(layer.__class__.__name__,'output shape:\\t', X.shape)"
      ],
      "metadata": {
        "colab": {
          "base_uri": "https://localhost:8080/"
        },
        "id": "Jn9VqCIRnZKp",
        "outputId": "3a27f69f-8abe-49b7-d08d-449c39a66293"
      },
      "execution_count": 14,
      "outputs": [
        {
          "output_type": "stream",
          "name": "stdout",
          "text": [
            "Sequential output shape:\t torch.Size([1, 64, 56, 56])\n",
            "Sequential output shape:\t torch.Size([1, 256, 56, 56])\n",
            "Sequential output shape:\t torch.Size([1, 512, 28, 28])\n",
            "Sequential output shape:\t torch.Size([1, 1024, 14, 14])\n",
            "Sequential output shape:\t torch.Size([1, 2048, 7, 7])\n",
            "AdaptiveAvgPool2d output shape:\t torch.Size([1, 2048, 1, 1])\n",
            "Flatten output shape:\t torch.Size([1, 2048])\n",
            "Linear output shape:\t torch.Size([1, 10])\n"
          ]
        }
      ]
    }
  ]
}