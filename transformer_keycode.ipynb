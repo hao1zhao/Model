{
  "nbformat": 4,
  "nbformat_minor": 0,
  "metadata": {
    "colab": {
      "provenance": [],
      "authorship_tag": "ABX9TyONbFXslVrSLyLML/J/++ZD",
      "include_colab_link": true
    },
    "kernelspec": {
      "name": "python3",
      "display_name": "Python 3"
    },
    "language_info": {
      "name": "python"
    }
  },
  "cells": [
    {
      "cell_type": "markdown",
      "metadata": {
        "id": "view-in-github",
        "colab_type": "text"
      },
      "source": [
        "<a href=\"https://colab.research.google.com/github/hao1zhao/Model/blob/main/transformer_keycode.ipynb\" target=\"_parent\"><img src=\"https://colab.research.google.com/assets/colab-badge.svg\" alt=\"Open In Colab\"/></a>"
      ]
    },
    {
      "cell_type": "code",
      "execution_count": 2,
      "metadata": {
        "id": "HinkyzzTIHgq"
      },
      "outputs": [],
      "source": [
        "import torch\n",
        "import numpy as np\n",
        "import torch.nn as nn\n",
        "import torch.nn.functional as F"
      ]
    },
    {
      "cell_type": "markdown",
      "source": [
        "**Position embedding**\n",
        "$$\\begin{aligned} p_{i, 2j} &= \\sin\\left(\\frac{i}{10000^{2j/d}}\\right),\\\\p_{i, 2j+1} &= \\cos\\left(\\frac{i}{10000^{2j/d}}\\right).\\end{aligned}$$\n",
        "**Attention(Q,K,V)**\n",
        "$$ \\mathrm{softmax}\\left(\\frac{\\mathbf Q \\mathbf K^\\top }{\\sqrt{d}}\\right) \\mathbf V \\in \\mathbb{R}^{n\\times v}.$$\n"
      ],
      "metadata": {
        "id": "Uk4Am4NvRdTM"
      }
    },
    {
      "cell_type": "markdown",
      "source": [
        "**Encoder**"
      ],
      "metadata": {
        "id": "nB2BMAT7zeG7"
      }
    },
    {
      "cell_type": "code",
      "source": [
        "#structure train data\n",
        "batch_size = 2\n",
        "#words size\n",
        "max_num_src_words = 8\n",
        "max_num_tgt_words = 8\n",
        "#domel dimension\n",
        "model_dim = 8\n",
        "#max length\n",
        "max_scr_seq_len=5\n",
        "max_tgt_seq_len=5\n",
        "max_position_len =5\n",
        "\n",
        "# src_len = torch.randint(2,5,(batch_size,))\n",
        "# tgt_len = torch.randint(2,5,(batch_size,)) \n",
        "src_len = torch.Tensor([2,4]).to(torch.int32) #language squence length\n",
        "tgt_len = torch.Tensor([4,3]).to(torch.int32) #target sqence length\n",
        "#batch and padding\n",
        "src_seq = torch.cat([torch.unsqueeze(F.pad(torch.randint(1, max_num_src_words , (L,)),(0,max(src_len)-L)),0) \\\n",
        "                     for L in src_len]) #word index\n",
        "tgt_seq = torch.cat([torch.unsqueeze(F.pad(torch.randint(1, max_num_tgt_words , (L,)),(0,max(tgt_len)-L)),0) \\\n",
        "                     for L in tgt_len]) #word index\n",
        "#word embedding\n",
        "src_embedding_table = nn.Embedding(max_num_src_words+1,model_dim)#first row is padding(0)\n",
        "tgt_embedding_table = nn.Embedding(max_num_src_words+1,model_dim)\n",
        "src_embedding = src_embedding_table(src_seq)\n",
        "tgt_embedding = tgt_embedding_table(tgt_seq)\n",
        "\n",
        "#position embedding\n",
        "pos_mat = torch.arange(max_position_len).reshape((-1,1))\n",
        "i_mat = torch.pow(10000,torch.arange(0,8,2).reshape((1,-1))/model_dim)\n",
        "pe_embedding_table = torch.zeros(max_position_len,model_dim)\n",
        "pe_embedding_table[:,0::2] = torch.sin(pos_mat/i_mat) #even column\n",
        "pe_embedding_table[:,1::2] = torch.cos(pos_mat/i_mat) #odd column\n",
        "\n",
        "pe_embedding = nn.Embedding(max_position_len,model_dim)\n",
        "pe_embedding.weight = nn.Parameter(pe_embedding_table,requires_grad=False)\n",
        "#position index\n",
        "src_pos = torch.cat([torch.unsqueeze(torch.arange(max(src_len)),0) for _ in src_len]).to(torch.int32)\n",
        "tgt_pos = torch.cat([torch.unsqueeze(torch.arange(max(tgt_len)),0) for _ in tgt_len]).to(torch.int32)\n",
        "src_pe_embedding = pe_embedding(src_pos)\n",
        "tgt_pe_embedding = pe_embedding(tgt_pos)\n",
        "\n",
        "#self_attention mask:Relationship Matrix\n",
        "#mask:[batch_size,max_src_len,max_src_len],value = 1 or -inf\n",
        "valid_encoder_pos = torch.unsqueeze(torch.cat([torch.unsqueeze(F.pad(torch.ones(L),(0,max(src_len)-L)),0) \\\n",
        "                               for L in src_len]),2)\n",
        "valid_encoder_pos_matrix = torch.bmm(valid_encoder_pos,valid_encoder_pos.transpose(1,2))\n",
        "invalid_encoder_pos_matrix = 1 - valid_encoder_pos_matrix\n",
        "mask_encoder_self_attention = invalid_encoder_pos_matrix.to(torch.bool)\n",
        "\n",
        "score = torch.randn(batch_size,max(src_len),max(src_len))\n",
        "masked_score = score.masked_fill(mask_encoder_self_attention,-1e9) #True:-1e9\n",
        "prob = F.softmax(masked_score,-1)\n",
        "print(score)\n",
        "print(masked_score)\n",
        "print(prob)\n",
        "#softmax why we need to scale\n",
        "# alpha1 = 0.1\n",
        "# alpha2 = 10\n",
        "# score = torch.rand(5) #result of similarity Q*K\n",
        "# prob = F.softmax(score*alpha1,-1)\n",
        "# prob2 = F.softmax(score*alpha2,-1)\n",
        "# def softmax_func(score):\n",
        "#   return F.softmax(score)\n",
        "# jaco_mat1 = torch.autograd.functional.jacobian(softmax_func,score*alpha1)\n",
        "# jaco_mat2 = torch.autograd.functional.jacobian(softmax_func,score*alpha2)\n",
        "\n"
      ],
      "metadata": {
        "colab": {
          "base_uri": "https://localhost:8080/"
        },
        "id": "4pJ5ecG0zebw",
        "outputId": "19cdb015-5e6e-4c90-83ca-9dd71fec01a3"
      },
      "execution_count": 4,
      "outputs": [
        {
          "output_type": "stream",
          "name": "stdout",
          "text": [
            "tensor([[[-0.0859, -1.1043, -0.7031,  0.2001],\n",
            "         [-0.4731,  0.2562,  1.3384,  1.5176],\n",
            "         [ 0.0924, -0.7039, -0.4194,  0.2126],\n",
            "         [ 1.4768,  0.3347,  0.0357,  1.2195]],\n",
            "\n",
            "        [[-0.3293,  0.8625, -0.6781,  0.3781],\n",
            "         [-0.5138,  0.1044, -0.2862,  0.0664],\n",
            "         [ 2.1876,  0.9374, -1.7762,  0.8907],\n",
            "         [ 1.9163,  2.6244, -1.1028,  0.4590]]])\n",
            "tensor([[[-8.5921e-02, -1.1043e+00, -1.0000e+09, -1.0000e+09],\n",
            "         [-4.7315e-01,  2.5619e-01, -1.0000e+09, -1.0000e+09],\n",
            "         [-1.0000e+09, -1.0000e+09, -1.0000e+09, -1.0000e+09],\n",
            "         [-1.0000e+09, -1.0000e+09, -1.0000e+09, -1.0000e+09]],\n",
            "\n",
            "        [[-3.2929e-01,  8.6252e-01, -6.7808e-01,  3.7811e-01],\n",
            "         [-5.1383e-01,  1.0437e-01, -2.8624e-01,  6.6426e-02],\n",
            "         [ 2.1876e+00,  9.3739e-01, -1.7762e+00,  8.9074e-01],\n",
            "         [ 1.9163e+00,  2.6244e+00, -1.1028e+00,  4.5903e-01]]])\n",
            "tensor([[[0.7347, 0.2653, 0.0000, 0.0000],\n",
            "         [0.3253, 0.6747, 0.0000, 0.0000],\n",
            "         [0.2500, 0.2500, 0.2500, 0.2500],\n",
            "         [0.2500, 0.2500, 0.2500, 0.2500]],\n",
            "\n",
            "        [[0.1423, 0.4686, 0.1004, 0.2887],\n",
            "         [0.1696, 0.3146, 0.2129, 0.3029],\n",
            "         [0.6334, 0.1814, 0.0120, 0.1732],\n",
            "         [0.3020, 0.6130, 0.0147, 0.0703]]])\n"
          ]
        }
      ]
    },
    {
      "cell_type": "markdown",
      "source": [
        "**Decoder**"
      ],
      "metadata": {
        "id": "o7kmXm524e4f"
      }
    },
    {
      "cell_type": "code",
      "source": [
        "# intra_attention mask\n",
        "# Q @ K^T shape: [batch_size, tgt_seq_len, src_seq_len]\n",
        "valid_encoder_pos = torch.unsqueeze(torch.cat([torch.unsqueeze(F.pad(torch.ones(L),(0,max(src_len)-L)),0) \\\n",
        "                               for L in src_len]),2)\n",
        "valid_decoder_pos = torch.unsqueeze(torch.cat([torch.unsqueeze(F.pad(torch.ones(L),(0,max(tgt_len)-L)),0) \\\n",
        "                               for L in tgt_len]),2)\n",
        "\n",
        "valid_cross_pos_matrix = torch.bmm(valid_decoder_pos, valid_encoder_pos.transpose(1,2))\n",
        "invalid_cross_pos_matrix = 1 - valid_cross_pos_matrix\n",
        "mask_cross_attention = invalid_cross_pos_matrix.to(torch.bool)\n",
        "\n",
        "#decoder self-attention mask\n",
        "valid_decoder_tri_matrix = torch.cat([torch.unsqueeze(F.pad(torch.tril(torch.ones((L,L))),\\\n",
        "                        (0,max(tgt_len)-L,0,max(tgt_len)-L)),0) for L in tgt_len])\n",
        "invalid_decoder_tri_matrix = 1 - valid_decoder_tri_matrix\n",
        "invalid_decoder_tri_matrix = invalid_decoder_tri_matrix.to(torch.bool)\n",
        "score = torch.randn(batch_size,max(tgt_len),max(tgt_len))\n",
        "masked_de_score = score.masked_fill(invalid_decoder_tri_matrix,-1e9) #True:-1e9\n",
        "prob_de = F.softmax(masked_de_score,-1)\n",
        "\n",
        "#scaled self_attemtion\n",
        "def scaled_dot_porduct_attention(Q,K,V,attn_mask):\n",
        "  #Q,K,V:(batch_size*num_head,seq_len,model_dim/num_head)\n",
        "  torch.bmm(Q, K.transpose(-2,-1))/torch.sqrt(model_dim)\n",
        "  masked_score = score.masked_fill(attn_mask,-1e9)\n",
        "  prob = F.softmax(masked_score,-1)\n",
        "  context = torch.bmm(prob,V)\n",
        "  return context\n"
      ],
      "metadata": {
        "colab": {
          "base_uri": "https://localhost:8080/"
        },
        "id": "h2sIcZX0IFlU",
        "outputId": "7c547cc3-7645-4325-c9ec-a5f72fc070c5"
      },
      "execution_count": 32,
      "outputs": [
        {
          "output_type": "stream",
          "name": "stdout",
          "text": [
            "tensor([4, 3], dtype=torch.int32)\n",
            "tensor([[[1.0000, 0.0000, 0.0000, 0.0000],\n",
            "         [0.2903, 0.7097, 0.0000, 0.0000],\n",
            "         [0.2045, 0.1580, 0.6375, 0.0000],\n",
            "         [0.2276, 0.6026, 0.1447, 0.0251]],\n",
            "\n",
            "        [[1.0000, 0.0000, 0.0000, 0.0000],\n",
            "         [0.5549, 0.4451, 0.0000, 0.0000],\n",
            "         [0.4484, 0.0998, 0.4519, 0.0000],\n",
            "         [0.2500, 0.2500, 0.2500, 0.2500]]])\n"
          ]
        }
      ]
    },
    {
      "cell_type": "code",
      "source": [],
      "metadata": {
        "id": "53FIAnEDFXG_"
      },
      "execution_count": null,
      "outputs": []
    }
  ]
}